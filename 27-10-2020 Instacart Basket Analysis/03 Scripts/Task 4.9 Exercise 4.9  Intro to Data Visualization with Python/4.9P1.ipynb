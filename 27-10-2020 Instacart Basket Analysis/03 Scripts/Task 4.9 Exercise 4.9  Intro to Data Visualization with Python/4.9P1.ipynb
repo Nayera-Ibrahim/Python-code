{
 "cells": [
  {
   "cell_type": "markdown",
   "id": "0f4dac36",
   "metadata": {},
   "source": [
    "#  importing libraries"
   ]
  },
  {
   "cell_type": "code",
   "execution_count": 1,
   "id": "b083eb83",
   "metadata": {},
   "outputs": [],
   "source": [
    "import pandas as pd\n",
    "import numpy as np\n",
    "import os\n",
    "import matplotlib.pyplot as plt\n",
    "import seaborn as sns\n",
    "import scipy"
   ]
  },
  {
   "cell_type": "markdown",
   "id": "078b56f3",
   "metadata": {},
   "source": [
    "# Importing dataframe"
   ]
  },
  {
   "cell_type": "code",
   "execution_count": 9,
   "id": "a5d58d14",
   "metadata": {},
   "outputs": [],
   "source": [
    "customer_df = pd.read_csv(r'/Users/nayeraibrahim/Documents/CF assignments/Python/27-10-2020 Instacart Basket Analysis/02 Data/Original Data/customers.csv', index_col = False)\n"
   ]
  },
  {
   "cell_type": "code",
   "execution_count": 11,
   "id": "b787d931",
   "metadata": {},
   "outputs": [
    {
     "data": {
      "text/html": [
       "<div>\n",
       "<style scoped>\n",
       "    .dataframe tbody tr th:only-of-type {\n",
       "        vertical-align: middle;\n",
       "    }\n",
       "\n",
       "    .dataframe tbody tr th {\n",
       "        vertical-align: top;\n",
       "    }\n",
       "\n",
       "    .dataframe thead th {\n",
       "        text-align: right;\n",
       "    }\n",
       "</style>\n",
       "<table border=\"1\" class=\"dataframe\">\n",
       "  <thead>\n",
       "    <tr style=\"text-align: right;\">\n",
       "      <th></th>\n",
       "      <th>user_id</th>\n",
       "      <th>First Name</th>\n",
       "      <th>Surnam</th>\n",
       "      <th>Gender</th>\n",
       "      <th>State</th>\n",
       "      <th>Age</th>\n",
       "      <th>date_joined</th>\n",
       "      <th>Number_of_dependants</th>\n",
       "      <th>Familial_status</th>\n",
       "      <th>income</th>\n",
       "    </tr>\n",
       "  </thead>\n",
       "  <tbody>\n",
       "    <tr>\n",
       "      <th>0</th>\n",
       "      <td>26711</td>\n",
       "      <td>Deborah</td>\n",
       "      <td>Esquivel</td>\n",
       "      <td>Female</td>\n",
       "      <td>Missouri</td>\n",
       "      <td>48</td>\n",
       "      <td>1/1/2017</td>\n",
       "      <td>3</td>\n",
       "      <td>married</td>\n",
       "      <td>165665</td>\n",
       "    </tr>\n",
       "  </tbody>\n",
       "</table>\n",
       "</div>"
      ],
      "text/plain": [
       "   user_id First Name    Surnam  Gender     State  Age date_joined  \\\n",
       "0    26711    Deborah  Esquivel  Female  Missouri   48    1/1/2017   \n",
       "\n",
       "   Number_of_dependants Familial_status  income  \n",
       "0                     3         married  165665  "
      ]
     },
     "execution_count": 11,
     "metadata": {},
     "output_type": "execute_result"
    }
   ],
   "source": [
    "customer_df.head(1)"
   ]
  },
  {
   "cell_type": "markdown",
   "id": "48e3ec6a",
   "metadata": {},
   "source": [
    "# Data Wrangling: changing column name"
   ]
  },
  {
   "cell_type": "code",
   "execution_count": 10,
   "id": "378234d6",
   "metadata": {},
   "outputs": [],
   "source": [
    "# The following columns will be renamed: Surnam, STATE, n_dependants, fam_status to \n",
    "# Surname, State, Number_of_dependants, Familial_statuscustomer_df.rename(columns = {'Surnam' : 'Surname'}, inplace = True)\n",
    "customer_df.rename(columns = {'STATE' : 'State'}, inplace = True)\n",
    "customer_df.rename(columns = {'n_dependants' : 'Number_of_dependants'}, inplace = True)\n",
    "customer_df.rename(columns = {'fam_status' : 'Familial_status'}, inplace = True)\n"
   ]
  },
  {
   "cell_type": "code",
   "execution_count": 12,
   "id": "2fa59245",
   "metadata": {},
   "outputs": [
    {
     "data": {
      "text/html": [
       "<div>\n",
       "<style scoped>\n",
       "    .dataframe tbody tr th:only-of-type {\n",
       "        vertical-align: middle;\n",
       "    }\n",
       "\n",
       "    .dataframe tbody tr th {\n",
       "        vertical-align: top;\n",
       "    }\n",
       "\n",
       "    .dataframe thead th {\n",
       "        text-align: right;\n",
       "    }\n",
       "</style>\n",
       "<table border=\"1\" class=\"dataframe\">\n",
       "  <thead>\n",
       "    <tr style=\"text-align: right;\">\n",
       "      <th></th>\n",
       "      <th>user_id</th>\n",
       "      <th>First Name</th>\n",
       "      <th>Surnam</th>\n",
       "      <th>Gender</th>\n",
       "      <th>State</th>\n",
       "      <th>Age</th>\n",
       "      <th>date_joined</th>\n",
       "      <th>Number_of_dependants</th>\n",
       "      <th>Familial_status</th>\n",
       "      <th>income</th>\n",
       "    </tr>\n",
       "  </thead>\n",
       "  <tbody>\n",
       "    <tr>\n",
       "      <th>0</th>\n",
       "      <td>26711</td>\n",
       "      <td>Deborah</td>\n",
       "      <td>Esquivel</td>\n",
       "      <td>Female</td>\n",
       "      <td>Missouri</td>\n",
       "      <td>48</td>\n",
       "      <td>1/1/2017</td>\n",
       "      <td>3</td>\n",
       "      <td>married</td>\n",
       "      <td>165665</td>\n",
       "    </tr>\n",
       "  </tbody>\n",
       "</table>\n",
       "</div>"
      ],
      "text/plain": [
       "   user_id First Name    Surnam  Gender     State  Age date_joined  \\\n",
       "0    26711    Deborah  Esquivel  Female  Missouri   48    1/1/2017   \n",
       "\n",
       "   Number_of_dependants Familial_status  income  \n",
       "0                     3         married  165665  "
      ]
     },
     "execution_count": 12,
     "metadata": {},
     "output_type": "execute_result"
    }
   ],
   "source": [
    "customer_df.head(1)"
   ]
  },
  {
   "cell_type": "code",
   "execution_count": 13,
   "id": "7253977a",
   "metadata": {},
   "outputs": [
    {
     "data": {
      "text/plain": [
       "user_id                  int64\n",
       "First Name              object\n",
       "Surnam                  object\n",
       "Gender                  object\n",
       "State                   object\n",
       "Age                      int64\n",
       "date_joined             object\n",
       "Number_of_dependants     int64\n",
       "Familial_status         object\n",
       "income                   int64\n",
       "dtype: object"
      ]
     },
     "execution_count": 13,
     "metadata": {},
     "output_type": "execute_result"
    }
   ],
   "source": [
    "#checking data types. All is correct\n",
    "customer_df.dtypes"
   ]
  },
  {
   "cell_type": "markdown",
   "id": "0df851d4",
   "metadata": {},
   "source": [
    "# consistency checks"
   ]
  },
  {
   "cell_type": "code",
   "execution_count": 14,
   "id": "1469c136",
   "metadata": {},
   "outputs": [
    {
     "data": {
      "text/html": [
       "<div>\n",
       "<style scoped>\n",
       "    .dataframe tbody tr th:only-of-type {\n",
       "        vertical-align: middle;\n",
       "    }\n",
       "\n",
       "    .dataframe tbody tr th {\n",
       "        vertical-align: top;\n",
       "    }\n",
       "\n",
       "    .dataframe thead th {\n",
       "        text-align: right;\n",
       "    }\n",
       "</style>\n",
       "<table border=\"1\" class=\"dataframe\">\n",
       "  <thead>\n",
       "    <tr style=\"text-align: right;\">\n",
       "      <th></th>\n",
       "      <th>user_id</th>\n",
       "      <th>Age</th>\n",
       "      <th>Number_of_dependants</th>\n",
       "      <th>income</th>\n",
       "    </tr>\n",
       "  </thead>\n",
       "  <tbody>\n",
       "    <tr>\n",
       "      <th>count</th>\n",
       "      <td>206209.000000</td>\n",
       "      <td>206209.000000</td>\n",
       "      <td>206209.000000</td>\n",
       "      <td>206209.000000</td>\n",
       "    </tr>\n",
       "    <tr>\n",
       "      <th>mean</th>\n",
       "      <td>103105.000000</td>\n",
       "      <td>49.501646</td>\n",
       "      <td>1.499823</td>\n",
       "      <td>94632.852548</td>\n",
       "    </tr>\n",
       "    <tr>\n",
       "      <th>std</th>\n",
       "      <td>59527.555167</td>\n",
       "      <td>18.480962</td>\n",
       "      <td>1.118433</td>\n",
       "      <td>42473.786988</td>\n",
       "    </tr>\n",
       "    <tr>\n",
       "      <th>min</th>\n",
       "      <td>1.000000</td>\n",
       "      <td>18.000000</td>\n",
       "      <td>0.000000</td>\n",
       "      <td>25903.000000</td>\n",
       "    </tr>\n",
       "    <tr>\n",
       "      <th>25%</th>\n",
       "      <td>51553.000000</td>\n",
       "      <td>33.000000</td>\n",
       "      <td>0.000000</td>\n",
       "      <td>59874.000000</td>\n",
       "    </tr>\n",
       "    <tr>\n",
       "      <th>50%</th>\n",
       "      <td>103105.000000</td>\n",
       "      <td>49.000000</td>\n",
       "      <td>1.000000</td>\n",
       "      <td>93547.000000</td>\n",
       "    </tr>\n",
       "    <tr>\n",
       "      <th>75%</th>\n",
       "      <td>154657.000000</td>\n",
       "      <td>66.000000</td>\n",
       "      <td>3.000000</td>\n",
       "      <td>124244.000000</td>\n",
       "    </tr>\n",
       "    <tr>\n",
       "      <th>max</th>\n",
       "      <td>206209.000000</td>\n",
       "      <td>81.000000</td>\n",
       "      <td>3.000000</td>\n",
       "      <td>593901.000000</td>\n",
       "    </tr>\n",
       "  </tbody>\n",
       "</table>\n",
       "</div>"
      ],
      "text/plain": [
       "             user_id            Age  Number_of_dependants         income\n",
       "count  206209.000000  206209.000000         206209.000000  206209.000000\n",
       "mean   103105.000000      49.501646              1.499823   94632.852548\n",
       "std     59527.555167      18.480962              1.118433   42473.786988\n",
       "min         1.000000      18.000000              0.000000   25903.000000\n",
       "25%     51553.000000      33.000000              0.000000   59874.000000\n",
       "50%    103105.000000      49.000000              1.000000   93547.000000\n",
       "75%    154657.000000      66.000000              3.000000  124244.000000\n",
       "max    206209.000000      81.000000              3.000000  593901.000000"
      ]
     },
     "execution_count": 14,
     "metadata": {},
     "output_type": "execute_result"
    }
   ],
   "source": [
    "#checking data statistics: everything looks consistent \n",
    "customer_df.describe()"
   ]
  },
  {
   "cell_type": "code",
   "execution_count": 15,
   "id": "5d485536",
   "metadata": {},
   "outputs": [
    {
     "name": "stdout",
     "output_type": "stream",
     "text": [
      "First Name\n"
     ]
    }
   ],
   "source": [
    "#checking for mixed-type columns: first name column is mixed type\n",
    "for col in customer_df.columns.tolist():\n",
    "  weird = (customer_df[[col]].applymap(type) != customer_df[[col]].iloc[0].apply(type)).any(axis = 1)\n",
    "  if len (customer_df[weird]) > 0:\n",
    "    print (col)"
   ]
  },
  {
   "cell_type": "code",
   "execution_count": 19,
   "id": "d92dfcb9",
   "metadata": {},
   "outputs": [],
   "source": [
    "#changing first name column to string\n",
    "customer_df['First Name'] = customer_df['First Name'].astype('str')\n"
   ]
  },
  {
   "cell_type": "code",
   "execution_count": 20,
   "id": "9b31f714",
   "metadata": {},
   "outputs": [
    {
     "data": {
      "text/plain": [
       "user_id                 0\n",
       "First Name              0\n",
       "Surnam                  0\n",
       "Gender                  0\n",
       "State                   0\n",
       "Age                     0\n",
       "date_joined             0\n",
       "Number_of_dependants    0\n",
       "Familial_status         0\n",
       "income                  0\n",
       "dtype: int64"
      ]
     },
     "execution_count": 20,
     "metadata": {},
     "output_type": "execute_result"
    }
   ],
   "source": [
    "#finding missing values: no null values\n",
    "customer_df.isnull().sum()\n"
   ]
  },
  {
   "cell_type": "code",
   "execution_count": 21,
   "id": "2dd3341d",
   "metadata": {
    "scrolled": true
   },
   "outputs": [
    {
     "data": {
      "text/html": [
       "<div>\n",
       "<style scoped>\n",
       "    .dataframe tbody tr th:only-of-type {\n",
       "        vertical-align: middle;\n",
       "    }\n",
       "\n",
       "    .dataframe tbody tr th {\n",
       "        vertical-align: top;\n",
       "    }\n",
       "\n",
       "    .dataframe thead th {\n",
       "        text-align: right;\n",
       "    }\n",
       "</style>\n",
       "<table border=\"1\" class=\"dataframe\">\n",
       "  <thead>\n",
       "    <tr style=\"text-align: right;\">\n",
       "      <th></th>\n",
       "      <th>user_id</th>\n",
       "      <th>First Name</th>\n",
       "      <th>Surnam</th>\n",
       "      <th>Gender</th>\n",
       "      <th>State</th>\n",
       "      <th>Age</th>\n",
       "      <th>date_joined</th>\n",
       "      <th>Number_of_dependants</th>\n",
       "      <th>Familial_status</th>\n",
       "      <th>income</th>\n",
       "    </tr>\n",
       "  </thead>\n",
       "  <tbody>\n",
       "  </tbody>\n",
       "</table>\n",
       "</div>"
      ],
      "text/plain": [
       "Empty DataFrame\n",
       "Columns: [user_id, First Name, Surnam, Gender, State, Age, date_joined, Number_of_dependants, Familial_status, income]\n",
       "Index: []"
      ]
     },
     "execution_count": 21,
     "metadata": {},
     "output_type": "execute_result"
    }
   ],
   "source": [
    "#finding duplicate data: no duplicates found\n",
    "customer_df_duplicates = customer_df[customer_df.duplicated()]\n",
    "customer_df_duplicates"
   ]
  },
  {
   "cell_type": "code",
   "execution_count": null,
   "id": "71efa888",
   "metadata": {},
   "outputs": [],
   "source": [
    "# Combining with other instacart data"
   ]
  },
  {
   "cell_type": "code",
   "execution_count": 23,
   "id": "54f9c931",
   "metadata": {},
   "outputs": [],
   "source": [
    "#importing ords_prods_merged_flagged\n",
    "ords_prods_m_f = pd.read_pickle(r'/Users/nayeraibrahim/Documents/CF assignments/Python/27-10-2020 Instacart Basket Analysis/02 Data/Prepared Data/ orders_products_merged_flagged.pkl')\n"
   ]
  },
  {
   "cell_type": "code",
   "execution_count": 24,
   "id": "5cdb5e32",
   "metadata": {},
   "outputs": [
    {
     "data": {
      "text/plain": [
       "order_id                   float64\n",
       "user_id                    float64\n",
       "eval_set                    object\n",
       "order_number               float64\n",
       "order_dow                  float64\n",
       "order_hour_of_day          float64\n",
       "days_since_prior_order     float64\n",
       "product_id                   int64\n",
       "add_to_cart_order          float64\n",
       "reordered                  float64\n",
       "_merge                    category\n",
       "Unnamed: 0                 float64\n",
       "product_name                object\n",
       "aisle_id                   float64\n",
       "department_id              float64\n",
       "prices                     float64\n",
       "_merge2                   category\n",
       "max_order                  float64\n",
       "loyalty_flag                object\n",
       "avg_price                  float64\n",
       "spender_flag                object\n",
       "cust_reg                   float64\n",
       "frequent_flag               object\n",
       "dtype: object"
      ]
     },
     "execution_count": 24,
     "metadata": {},
     "output_type": "execute_result"
    }
   ],
   "source": [
    "#checking data types\n",
    "ords_prods_m_f.dtypes"
   ]
  },
  {
   "cell_type": "code",
   "execution_count": 26,
   "id": "2348c9d7",
   "metadata": {},
   "outputs": [],
   "source": [
    "#changing user_id to float64\n",
    "customer_df['user_id'] = customer_df['user_id'].astype('float64')\n"
   ]
  },
  {
   "cell_type": "code",
   "execution_count": 28,
   "id": "88f0aa85",
   "metadata": {},
   "outputs": [],
   "source": [
    "#test merge without overwriting\n",
    "df_merged=ords_prods_m_f.merge(customer_df, on = ['user_id'], how = 'outer', indicator='True')"
   ]
  },
  {
   "cell_type": "code",
   "execution_count": 29,
   "id": "a3502c5c",
   "metadata": {},
   "outputs": [
    {
     "data": {
      "text/plain": [
       "both          32436241\n",
       "left_only           11\n",
       "right_only           0\n",
       "Name: True, dtype: int64"
      ]
     },
     "execution_count": 29,
     "metadata": {},
     "output_type": "execute_result"
    }
   ],
   "source": [
    "df_merged['True'].value_counts()"
   ]
  },
  {
   "cell_type": "code",
   "execution_count": 30,
   "id": "c7b34cb3",
   "metadata": {},
   "outputs": [],
   "source": [
    "#exporting the merged file\n",
    "df_merged.to_pickle(r'/Users/nayeraibrahim/Documents/CF assignments/Python/27-10-2020 Instacart Basket Analysis/02 Data/Prepared Data/customer_merged.pkl')\n"
   ]
  },
  {
   "cell_type": "code",
   "execution_count": null,
   "id": "851d72e5",
   "metadata": {},
   "outputs": [],
   "source": []
  }
 ],
 "metadata": {
  "kernelspec": {
   "display_name": "Python 3 (ipykernel)",
   "language": "python",
   "name": "python3"
  },
  "language_info": {
   "codemirror_mode": {
    "name": "ipython",
    "version": 3
   },
   "file_extension": ".py",
   "mimetype": "text/x-python",
   "name": "python",
   "nbconvert_exporter": "python",
   "pygments_lexer": "ipython3",
   "version": "3.9.13"
  }
 },
 "nbformat": 4,
 "nbformat_minor": 5
}
